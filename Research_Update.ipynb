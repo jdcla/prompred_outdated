{
 "cells": [
  {
   "cell_type": "markdown",
   "metadata": {
    "collapsed": false,
    "scrolled": true,
    "slideshow": {
     "slide_type": "slide"
    }
   },
   "source": [
    "## Before we start\n",
    "\n",
    "This **notebook, presentation, functions and data** can be retrieved from GitHub:\n",
    "\n",
    "    git clone https://github.com/Kleurenprinter/prompred.git\n",
    "\n",
    "\n",
    "\n",
    "\n",
    "\n",
    "\n",
    "<script>\n",
    "code_show=true; \n",
    "function code_toggle() {\n",
    " if (code_show){\n",
    " $('div.input').hide();\n",
    " $('div.output_prompt').show();\n",
    " $('.alert-success').hide();\n",
    " $('.alert-danger').show();\n",
    " } else {\n",
    " $('div.input').show();\n",
    " $('div.output_prompt').show();\n",
    " $('.alert-success').show();\n",
    " $('.alert-danger').hide();\n",
    " }\n",
    " code_show = !code_show\n",
    "} \n",
    "$( document ).ready(code_toggle);\n",
    "</script>\n",
    "\n",
    "\n",
    "<p style=\"padding-top:1in\">\n",
    "The raw code for this IPython notebook is by default hidden for easier reading.\n",
    "To toggle on/off the raw code, click <a href=\"javascript:code_toggle()\">here</a>.\n",
    "</p>\n",
    "<div class=\"alert alert-success\">\n",
    "    <b>CODE SHOW </b>: turned ON\n",
    "</div>\n",
    "<div class=\"alert alert-danger\">\n",
    "    <b>CODE SHOW </b>: turned OFF\n",
    "</div>"
   ]
  },
  {
   "cell_type": "code",
   "execution_count": 2,
   "metadata": {
    "collapsed": true,
    "slideshow": {
     "slide_type": "skip"
    }
   },
   "outputs": [],
   "source": [
    "import matplotlib.pyplot as plt\n",
    "from prompred import *\n",
    "import numpy as np\n",
    "import math\n",
    "import sklearn\n",
    "import warnings\n",
    "import pandas as pd\n",
    "from IPython.core.display import HTML\n",
    "warnings.filterwarnings('ignore')\n",
    "\n",
    "%matplotlib inline"
   ]
  },
  {
   "cell_type": "markdown",
   "metadata": {
    "slideshow": {
     "slide_type": "slide"
    }
   },
   "source": [
    "# The application of machine learning techniques in promoter engineering of prokaryotic microorganisms\n",
    "\n",
    "\n",
    "**[Jim Clauwaert](jim.clauwaert@ugent.be)** \n",
    "\n",
    "*Research update*\n",
    "\n",
    "December 2016\n"
   ]
  },
  {
   "cell_type": "markdown",
   "metadata": {
    "slideshow": {
     "slide_type": "subslide"
    }
   },
   "source": [
    "# Machine Learning\n",
    "<img src=\"../img/ml.png\" width=\"100%\">\n",
    "\n"
   ]
  },
  {
   "cell_type": "markdown",
   "metadata": {
    "slideshow": {
     "slide_type": "subslide"
    }
   },
   "source": [
    "# Promoter Engineering\n",
    "\n",
    "- Predict the strength of a promoter sequence used in E.coli using machine learning techniques.\n",
    "\n",
    "- Make predictions of the promoter strength in function of the sigma factor used by the RNA polymerase."
   ]
  },
  {
   "cell_type": "markdown",
   "metadata": {
    "slideshow": {
     "slide_type": "slide"
    }
   },
   "source": [
    "# Data"
   ]
  },
  {
   "cell_type": "markdown",
   "metadata": {
    "slideshow": {
     "slide_type": "subslide"
    }
   },
   "source": [
    "### Mutalik Database\n",
    "\n",
    "**254** promoters\n",
    "- 137 *randomized* promoters: randomization within 35- and 10-box\n",
    "- 117 *modulated* promoters: promoters built from a set of fragments\n"
   ]
  },
  {
   "cell_type": "markdown",
   "metadata": {
    "slideshow": {
     "slide_type": "fragment"
    }
   },
   "source": [
    "sequence length: $[35,49]$\n",
    "    - varying spacer lengths \n",
    "    - up-element"
   ]
  },
  {
   "cell_type": "markdown",
   "metadata": {
    "slideshow": {
     "slide_type": "fragment"
    }
   },
   "source": [
    "**Insulated** promoters"
   ]
  },
  {
   "cell_type": "code",
   "execution_count": 4,
   "metadata": {
    "collapsed": false,
    "slideshow": {
     "slide_type": "skip"
    }
   },
   "outputs": [
    {
     "data": {
      "application/javascript": [
       "IPython.OutputArea.auto_scroll_threshold = 90000;"
      ],
      "text/plain": [
       "<IPython.core.display.Javascript object>"
      ]
     },
     "metadata": {},
     "output_type": "display_data"
    }
   ],
   "source": [
    "%%javascript\n",
    "IPython.OutputArea.auto_scroll_threshold = 90000;"
   ]
  },
  {
   "cell_type": "markdown",
   "metadata": {
    "slideshow": {
     "slide_type": "slide"
    }
   },
   "source": [
    "# Feature creation and selection"
   ]
  },
  {
   "cell_type": "markdown",
   "metadata": {
    "collapsed": true,
    "slideshow": {
     "slide_type": "subslide"
    }
   },
   "source": [
    "## nucleotides with respictive positions\n"
   ]
  },
  {
   "cell_type": "markdown",
   "metadata": {
    "slideshow": {
     "slide_type": "fragment"
    }
   },
   "source": [
    "<img src=\"images/sequence1.png\" width=\"100%\">"
   ]
  },
  {
   "cell_type": "code",
   "execution_count": 5,
   "metadata": {
    "collapsed": false,
    "scrolled": false,
    "slideshow": {
     "slide_type": "fragment"
    }
   },
   "outputs": [
    {
     "data": {
      "text/html": [
       "<div>\n",
       "<table border=\"1\" class=\"dataframe\">\n",
       "  <thead>\n",
       "    <tr style=\"text-align: right;\">\n",
       "      <th></th>\n",
       "      <th>ID</th>\n",
       "      <th>sequence</th>\n",
       "    </tr>\n",
       "  </thead>\n",
       "  <tbody>\n",
       "    <tr>\n",
       "      <th>63</th>\n",
       "      <td>apFAB95</td>\n",
       "      <td>AAAAAATTTATTTGCTTTCGCATCTTTTTGTACCTATAATGTGTGGAT</td>\n",
       "    </tr>\n",
       "    <tr>\n",
       "      <th>217</th>\n",
       "      <td>apFAB305</td>\n",
       "      <td>TTGACAATTAATCATCCGGCTCGTAGGGTTTGTGGA</td>\n",
       "    </tr>\n",
       "    <tr>\n",
       "      <th>11</th>\n",
       "      <td>apFAB41</td>\n",
       "      <td>AAAAAGAGTATTGACTTCAGGAAAATTTTTCTGTATAATAGATTCAT</td>\n",
       "    </tr>\n",
       "    <tr>\n",
       "      <th>136</th>\n",
       "      <td>apFAB189</td>\n",
       "      <td>TTTTTCCTTAATCATCGGCTCGTATAATGTGTGGA</td>\n",
       "    </tr>\n",
       "    <tr>\n",
       "      <th>236</th>\n",
       "      <td>apFAB326</td>\n",
       "      <td>TTCCACCTTAATCATCCGGCTCGTATAATGTGTGGA</td>\n",
       "    </tr>\n",
       "  </tbody>\n",
       "</table>\n",
       "</div>"
      ],
      "text/plain": [
       "           ID                                          sequence\n",
       "63    apFAB95  AAAAAATTTATTTGCTTTCGCATCTTTTTGTACCTATAATGTGTGGAT\n",
       "217  apFAB305              TTGACAATTAATCATCCGGCTCGTAGGGTTTGTGGA\n",
       "11    apFAB41   AAAAAGAGTATTGACTTCAGGAAAATTTTTCTGTATAATAGATTCAT\n",
       "136  apFAB189               TTTTTCCTTAATCATCGGCTCGTATAATGTGTGGA\n",
       "236  apFAB326              TTCCACCTTAATCATCCGGCTCGTATAATGTGTGGA"
      ]
     },
     "execution_count": 5,
     "metadata": {},
     "output_type": "execute_result"
    }
   ],
   "source": [
    "dfDatasetOrder = pd.read_csv(\"data/mut_rand_mod_lib.csv\")\n",
    "dfDataset = dfDatasetOrder.reindex(np.random.permutation(dfDatasetOrder.index))\n",
    "dfDataset.iloc[:5, 0:2]"
   ]
  },
  {
   "cell_type": "markdown",
   "metadata": {
    "collapsed": false,
    "slideshow": {
     "slide_type": "subslide"
    }
   },
   "source": [
    "## Creation of two reference regions\n",
    "<img src=\"images/refreg.png\">"
   ]
  },
  {
   "cell_type": "markdown",
   "metadata": {
    "slideshow": {
     "slide_type": "subslide"
    }
   },
   "source": [
    "## Creation of dummy variables for every position\n",
    "<img src=\"images/dummy.png\">"
   ]
  },
  {
   "cell_type": "code",
   "execution_count": 6,
   "metadata": {
    "collapsed": false,
    "slideshow": {
     "slide_type": "fragment"
    }
   },
   "outputs": [
    {
     "name": "stdout",
     "output_type": "stream",
     "text": [
      "AAAAAGAGTATTGACTTAAAGTCTAACCTATAGGATACTTACAGCCAT \n",
      " [1 0 0 0 0 0 1 0 0 0 0 1 0 0 0 0 1 0 0 0 0 1 0 0 0 0 1 0 0 0 0 1 0 0 0 0 0\n",
      " 0 0 1 0 0 0 0 1 0 0 0 0 1 0 1 0 0 0 0 0 0 0 1 0 0 0 1 0 0 0 1 0 0 1 0 0 1\n",
      " 0 0 0 0 0 1 0 0 0 1 0 0 0 1 0 1 0 0 0 0 1 0 0 1 0 0 1 0 0 0 0 0 0 1 0 1 0\n",
      " 0 0 0 0 1 0 0 0 0 0 0 0 1 0 0 0 1 0 0 0 1 0 0 1 0 0 0 0 1 1 0 0 0 0 1 0 0\n",
      " 0 1 0 0 0 0 0 1 1 0 0 0 0 0 0 1 1 0 0 0 1 0 0 0 0 0 0 1 0 0 1 0 0 0 0 1 0\n",
      " 0 1 0 0 0 0 0 1 0 0 0 1 0 0 0 0 1 0 0 0 0 0 0 0 0]\n"
     ]
    }
   ],
   "source": [
    "#sequence range\n",
    "seqRange = [-47,1]\n",
    "\n",
    "#regions of interest (wrt 35- and 10-box)\n",
    "ROI =  [[-12,14],[-8,12]]\n",
    "\n",
    "#\n",
    "labels, positionBox, spacer = regionSelect(dfDataset, ROI, seqRange)\n",
    "print(dfDataset['sequence'][0],\"\\n\",positionBox.values[0])\n"
   ]
  },
  {
   "cell_type": "markdown",
   "metadata": {
    "slideshow": {
     "slide_type": "slide"
    }
   },
   "source": [
    "# Data Preprocessing"
   ]
  },
  {
   "cell_type": "markdown",
   "metadata": {
    "slideshow": {
     "slide_type": "subslide"
    }
   },
   "source": [
    "## Sequence annotation\n",
    "\n",
    "- add reference regions to used sequences"
   ]
  },
  {
   "cell_type": "code",
   "execution_count": 7,
   "metadata": {
    "collapsed": false,
    "slideshow": {
     "slide_type": "fragment"
    }
   },
   "outputs": [
    {
     "data": {
      "text/html": [
       "\n",
       "        <style  type=\"text/css\" >\n",
       "        \n",
       "        \n",
       "            #T_c6a4de50_c04e_11e6_a858_e4a7a0f4ef34row0_col0 {\n",
       "            \n",
       "                font-size:  12px;\n",
       "            \n",
       "            }\n",
       "        \n",
       "            #T_c6a4de50_c04e_11e6_a858_e4a7a0f4ef34row0_col1 {\n",
       "            \n",
       "                font-size:  12px;\n",
       "            \n",
       "            }\n",
       "        \n",
       "            #T_c6a4de50_c04e_11e6_a858_e4a7a0f4ef34row0_col2 {\n",
       "            \n",
       "                font-size:  12px;\n",
       "            \n",
       "            }\n",
       "        \n",
       "            #T_c6a4de50_c04e_11e6_a858_e4a7a0f4ef34row0_col3 {\n",
       "            \n",
       "                font-size:  12px;\n",
       "            \n",
       "            }\n",
       "        \n",
       "            #T_c6a4de50_c04e_11e6_a858_e4a7a0f4ef34row1_col0 {\n",
       "            \n",
       "                font-size:  12px;\n",
       "            \n",
       "            }\n",
       "        \n",
       "            #T_c6a4de50_c04e_11e6_a858_e4a7a0f4ef34row1_col1 {\n",
       "            \n",
       "                font-size:  12px;\n",
       "            \n",
       "            }\n",
       "        \n",
       "            #T_c6a4de50_c04e_11e6_a858_e4a7a0f4ef34row1_col2 {\n",
       "            \n",
       "                font-size:  12px;\n",
       "            \n",
       "            }\n",
       "        \n",
       "            #T_c6a4de50_c04e_11e6_a858_e4a7a0f4ef34row1_col3 {\n",
       "            \n",
       "                font-size:  12px;\n",
       "            \n",
       "            }\n",
       "        \n",
       "            #T_c6a4de50_c04e_11e6_a858_e4a7a0f4ef34row2_col0 {\n",
       "            \n",
       "                font-size:  12px;\n",
       "            \n",
       "            }\n",
       "        \n",
       "            #T_c6a4de50_c04e_11e6_a858_e4a7a0f4ef34row2_col1 {\n",
       "            \n",
       "                font-size:  12px;\n",
       "            \n",
       "            }\n",
       "        \n",
       "            #T_c6a4de50_c04e_11e6_a858_e4a7a0f4ef34row2_col2 {\n",
       "            \n",
       "                font-size:  12px;\n",
       "            \n",
       "            }\n",
       "        \n",
       "            #T_c6a4de50_c04e_11e6_a858_e4a7a0f4ef34row2_col3 {\n",
       "            \n",
       "                font-size:  12px;\n",
       "            \n",
       "            }\n",
       "        \n",
       "            #T_c6a4de50_c04e_11e6_a858_e4a7a0f4ef34row3_col0 {\n",
       "            \n",
       "                font-size:  12px;\n",
       "            \n",
       "            }\n",
       "        \n",
       "            #T_c6a4de50_c04e_11e6_a858_e4a7a0f4ef34row3_col1 {\n",
       "            \n",
       "                font-size:  12px;\n",
       "            \n",
       "            }\n",
       "        \n",
       "            #T_c6a4de50_c04e_11e6_a858_e4a7a0f4ef34row3_col2 {\n",
       "            \n",
       "                font-size:  12px;\n",
       "            \n",
       "            }\n",
       "        \n",
       "            #T_c6a4de50_c04e_11e6_a858_e4a7a0f4ef34row3_col3 {\n",
       "            \n",
       "                font-size:  12px;\n",
       "            \n",
       "            }\n",
       "        \n",
       "            #T_c6a4de50_c04e_11e6_a858_e4a7a0f4ef34row4_col0 {\n",
       "            \n",
       "                font-size:  12px;\n",
       "            \n",
       "            }\n",
       "        \n",
       "            #T_c6a4de50_c04e_11e6_a858_e4a7a0f4ef34row4_col1 {\n",
       "            \n",
       "                font-size:  12px;\n",
       "            \n",
       "            }\n",
       "        \n",
       "            #T_c6a4de50_c04e_11e6_a858_e4a7a0f4ef34row4_col2 {\n",
       "            \n",
       "                font-size:  12px;\n",
       "            \n",
       "            }\n",
       "        \n",
       "            #T_c6a4de50_c04e_11e6_a858_e4a7a0f4ef34row4_col3 {\n",
       "            \n",
       "                font-size:  12px;\n",
       "            \n",
       "            }\n",
       "        \n",
       "        </style>\n",
       "\n",
       "        <table id=\"T_c6a4de50_c04e_11e6_a858_e4a7a0f4ef34\" None>\n",
       "        \n",
       "\n",
       "        <thead>\n",
       "            \n",
       "            <tr>\n",
       "                \n",
       "                \n",
       "                <th class=\"blank level0\" >\n",
       "                  \n",
       "                \n",
       "                \n",
       "                \n",
       "                <th class=\"col_heading level0 col0\" colspan=1>\n",
       "                  sequence\n",
       "                \n",
       "                \n",
       "                \n",
       "                <th class=\"col_heading level0 col1\" colspan=1>\n",
       "                  mean_score\n",
       "                \n",
       "                \n",
       "                \n",
       "                <th class=\"col_heading level0 col2\" colspan=1>\n",
       "                  35boxstart\n",
       "                \n",
       "                \n",
       "                \n",
       "                <th class=\"col_heading level0 col3\" colspan=1>\n",
       "                  10boxstart\n",
       "                \n",
       "                \n",
       "            </tr>\n",
       "            \n",
       "        </thead>\n",
       "        <tbody>\n",
       "            \n",
       "            <tr>\n",
       "                \n",
       "                \n",
       "                <th id=\"T_c6a4de50_c04e_11e6_a858_e4a7a0f4ef34\"\n",
       "                 class=\"row_heading level0 row0\" rowspan=1>\n",
       "                    63\n",
       "                \n",
       "                \n",
       "                \n",
       "                <td id=\"T_c6a4de50_c04e_11e6_a858_e4a7a0f4ef34row0_col0\"\n",
       "                 class=\"data row0 col0\" >\n",
       "                    AAAAAATTTATTTGCTTTCGCATCTTTTTGTACCTATAATGTGTGGAT\n",
       "                \n",
       "                \n",
       "                \n",
       "                <td id=\"T_c6a4de50_c04e_11e6_a858_e4a7a0f4ef34row0_col1\"\n",
       "                 class=\"data row0 col1\" >\n",
       "                    425.41\n",
       "                \n",
       "                \n",
       "                \n",
       "                <td id=\"T_c6a4de50_c04e_11e6_a858_e4a7a0f4ef34row0_col2\"\n",
       "                 class=\"data row0 col2\" >\n",
       "                    11\n",
       "                \n",
       "                \n",
       "                \n",
       "                <td id=\"T_c6a4de50_c04e_11e6_a858_e4a7a0f4ef34row0_col3\"\n",
       "                 class=\"data row0 col3\" >\n",
       "                    34\n",
       "                \n",
       "                \n",
       "            </tr>\n",
       "            \n",
       "            <tr>\n",
       "                \n",
       "                \n",
       "                <th id=\"T_c6a4de50_c04e_11e6_a858_e4a7a0f4ef34\"\n",
       "                 class=\"row_heading level0 row1\" rowspan=1>\n",
       "                    217\n",
       "                \n",
       "                \n",
       "                \n",
       "                <td id=\"T_c6a4de50_c04e_11e6_a858_e4a7a0f4ef34row1_col0\"\n",
       "                 class=\"data row1 col0\" >\n",
       "                    TTGACAATTAATCATCCGGCTCGTAGGGTTTGTGGA\n",
       "                \n",
       "                \n",
       "                \n",
       "                <td id=\"T_c6a4de50_c04e_11e6_a858_e4a7a0f4ef34row1_col1\"\n",
       "                 class=\"data row1 col1\" >\n",
       "                    164.05\n",
       "                \n",
       "                \n",
       "                \n",
       "                <td id=\"T_c6a4de50_c04e_11e6_a858_e4a7a0f4ef34row1_col2\"\n",
       "                 class=\"data row1 col2\" >\n",
       "                    0\n",
       "                \n",
       "                \n",
       "                \n",
       "                <td id=\"T_c6a4de50_c04e_11e6_a858_e4a7a0f4ef34row1_col3\"\n",
       "                 class=\"data row1 col3\" >\n",
       "                    23\n",
       "                \n",
       "                \n",
       "            </tr>\n",
       "            \n",
       "            <tr>\n",
       "                \n",
       "                \n",
       "                <th id=\"T_c6a4de50_c04e_11e6_a858_e4a7a0f4ef34\"\n",
       "                 class=\"row_heading level0 row2\" rowspan=1>\n",
       "                    11\n",
       "                \n",
       "                \n",
       "                \n",
       "                <td id=\"T_c6a4de50_c04e_11e6_a858_e4a7a0f4ef34row2_col0\"\n",
       "                 class=\"data row2 col0\" >\n",
       "                    AAAAAGAGTATTGACTTCAGGAAAATTTTTCTGTATAATAGATTCAT\n",
       "                \n",
       "                \n",
       "                \n",
       "                <td id=\"T_c6a4de50_c04e_11e6_a858_e4a7a0f4ef34row2_col1\"\n",
       "                 class=\"data row2 col1\" >\n",
       "                    523.35\n",
       "                \n",
       "                \n",
       "                \n",
       "                <td id=\"T_c6a4de50_c04e_11e6_a858_e4a7a0f4ef34row2_col2\"\n",
       "                 class=\"data row2 col2\" >\n",
       "                    10\n",
       "                \n",
       "                \n",
       "                \n",
       "                <td id=\"T_c6a4de50_c04e_11e6_a858_e4a7a0f4ef34row2_col3\"\n",
       "                 class=\"data row2 col3\" >\n",
       "                    33\n",
       "                \n",
       "                \n",
       "            </tr>\n",
       "            \n",
       "            <tr>\n",
       "                \n",
       "                \n",
       "                <th id=\"T_c6a4de50_c04e_11e6_a858_e4a7a0f4ef34\"\n",
       "                 class=\"row_heading level0 row3\" rowspan=1>\n",
       "                    136\n",
       "                \n",
       "                \n",
       "                \n",
       "                <td id=\"T_c6a4de50_c04e_11e6_a858_e4a7a0f4ef34row3_col0\"\n",
       "                 class=\"data row3 col0\" >\n",
       "                    TTTTTCCTTAATCATCGGCTCGTATAATGTGTGGA\n",
       "                \n",
       "                \n",
       "                \n",
       "                <td id=\"T_c6a4de50_c04e_11e6_a858_e4a7a0f4ef34row3_col1\"\n",
       "                 class=\"data row3 col1\" >\n",
       "                    3.69\n",
       "                \n",
       "                \n",
       "                \n",
       "                <td id=\"T_c6a4de50_c04e_11e6_a858_e4a7a0f4ef34row3_col2\"\n",
       "                 class=\"data row3 col2\" >\n",
       "                    0\n",
       "                \n",
       "                \n",
       "                \n",
       "                <td id=\"T_c6a4de50_c04e_11e6_a858_e4a7a0f4ef34row3_col3\"\n",
       "                 class=\"data row3 col3\" >\n",
       "                    22\n",
       "                \n",
       "                \n",
       "            </tr>\n",
       "            \n",
       "            <tr>\n",
       "                \n",
       "                \n",
       "                <th id=\"T_c6a4de50_c04e_11e6_a858_e4a7a0f4ef34\"\n",
       "                 class=\"row_heading level0 row4\" rowspan=1>\n",
       "                    236\n",
       "                \n",
       "                \n",
       "                \n",
       "                <td id=\"T_c6a4de50_c04e_11e6_a858_e4a7a0f4ef34row4_col0\"\n",
       "                 class=\"data row4 col0\" >\n",
       "                    TTCCACCTTAATCATCCGGCTCGTATAATGTGTGGA\n",
       "                \n",
       "                \n",
       "                \n",
       "                <td id=\"T_c6a4de50_c04e_11e6_a858_e4a7a0f4ef34row4_col1\"\n",
       "                 class=\"data row4 col1\" >\n",
       "                    33.51\n",
       "                \n",
       "                \n",
       "                \n",
       "                <td id=\"T_c6a4de50_c04e_11e6_a858_e4a7a0f4ef34row4_col2\"\n",
       "                 class=\"data row4 col2\" >\n",
       "                    0\n",
       "                \n",
       "                \n",
       "                \n",
       "                <td id=\"T_c6a4de50_c04e_11e6_a858_e4a7a0f4ef34row4_col3\"\n",
       "                 class=\"data row4 col3\" >\n",
       "                    23\n",
       "                \n",
       "                \n",
       "            </tr>\n",
       "            \n",
       "        </tbody>\n",
       "        </table>\n",
       "        "
      ],
      "text/plain": [
       "<pandas.formats.style.Styler at 0x7f02a6e19cf8>"
      ]
     },
     "execution_count": 7,
     "metadata": {},
     "output_type": "execute_result"
    }
   ],
   "source": [
    "dfDataset.iloc[:5,[1,2,4,5]].style.set_properties(**{\"font-size\":\"12px\"})"
   ]
  },
  {
   "cell_type": "markdown",
   "metadata": {
    "slideshow": {
     "slide_type": "subslide"
    }
   },
   "source": [
    "## Labels\n",
    "\n",
    "- create homogenous distribution to keep estimation confidence interval over full range at a minimum"
   ]
  },
  {
   "cell_type": "code",
   "execution_count": 8,
   "metadata": {
    "collapsed": false,
    "slideshow": {
     "slide_type": "fragment"
    }
   },
   "outputs": [
    {
     "data": {
      "text/plain": [
       "<matplotlib.text.Text at 0x7f029db3a4a8>"
      ]
     },
     "execution_count": 8,
     "metadata": {},
     "output_type": "execute_result"
    },
    {
     "data": {
      "image/png": "[encoded data removed]",
      "text/plain": [
       "<matplotlib.figure.Figure at 0x7f02a6cdb9b0>"
      ]
     },
     "metadata": {},
     "output_type": "display_data"
    }
   ],
   "source": [
    "yData = dfDataset['mean_score']\n",
    "yRooted = [math.sqrt(math.sqrt(u)) for u in yData]\n",
    "plt.figure(num=None, figsize=(10, 4), dpi=80, facecolor='w', edgecolor='k')\n",
    "plt.subplot(121)\n",
    "plt.hist(yData,10,normed=1)\n",
    "plt.title('Histogram $fluorescence$ values')\n",
    "plt.subplot(122)\n",
    "plt.hist(yRooted,10,normed=1)\n",
    "plt.title('Histogram $\\sqrt[4]{fluorescence}$ values')"
   ]
  },
  {
   "cell_type": "markdown",
   "metadata": {
    "slideshow": {
     "slide_type": "slide"
    }
   },
   "source": [
    "# Code Implementation\n",
    "\n",
    "<script>\n",
    "code_show=true; \n",
    "function code_toggle() {\n",
    " if (code_show){\n",
    " $('div.input').hide();\n",
    " $('div.output_prompt').show();\n",
    " $('.alert-success').hide();\n",
    " $('.alert-danger').show();\n",
    " } else {\n",
    " $('div.input').show();\n",
    " $('div.output_prompt').show();\n",
    " $('.alert-success').show();\n",
    " $('.alert-danger').hide();\n",
    " }\n",
    " code_show = !code_show\n",
    "} \n",
    "$( document ).ready(code_toggle);\n",
    "</script>\n",
    "The raw code for this IPython notebook is by default hidden for easier reading.\n",
    "To toggle on/off the raw code, click <a href=\"javascript:code_toggle()\">here</a>.\n",
    "\n",
    "<div class=\"alert alert-success\">\n",
    "    <b>CODE SHOW </b>: turned ON\n",
    "</div>\n",
    "<div class=\"alert alert-danger\">\n",
    "    <b>CODE SHOW </b>: turned OFF\n",
    "</div>"
   ]
  },
  {
   "cell_type": "markdown",
   "metadata": {
    "slideshow": {
     "slide_type": "subslide"
    }
   },
   "source": [
    "# Supported models\n",
    "\n",
    "\n",
    "- **Ordinary Least Squares**: `OLS`\n",
    "        Parameters: coef0\n",
    "- **Ridge Regressen**: `ridge`\n",
    "        Parameters: alpha, coef0\n",
    "- **Lasso Regression**: `lasso`\n",
    "        Parameters: alpha, coef0\n",
    "- **Random Forests (Classification + Regression)** : `forestReg, forestClass`\n",
    "        Parameters: max_depth, max_features, min_samples\n",
    "- **Support vectors (Classification + Regression) **: `SVR`, `SVC`\n",
    "        Parameters: alpha, gamma, coef0\n",
    "        Kernels: poly, RBF, sigmoid, ...\n",
    "- **Ridge regression kernels**: `ridge`\n",
    "        Parameters: alpha, gamma, coef0\n",
    "        Kernels: poly, RBF, sigmoid, ..."
   ]
  },
  {
   "cell_type": "markdown",
   "metadata": {
    "slideshow": {
     "slide_type": "subslide"
    }
   },
   "source": [
    "# K-fold cross validation\n",
    "\n",
    "<img src=\"images/k-fold.png\" width=\"100%\">"
   ]
  },
  {
   "cell_type": "markdown",
   "metadata": {
    "slideshow": {
     "slide_type": "subslide"
    }
   },
   "source": [
    "# Nested K-fold cross validation\n",
    "\n",
    "<img src=\"images/nested-k-fold.png\" width=\"100%\">"
   ]
  },
  {
   "cell_type": "code",
   "execution_count": 9,
   "metadata": {
    "collapsed": false,
    "slideshow": {
     "slide_type": "subslide"
    }
   },
   "outputs": [
    {
     "data": {
      "image/png": "[encoded data removed]",
      "text/plain": [
       "<matplotlib.figure.Figure at 0x7f029c1dc438>"
      ]
     },
     "metadata": {},
     "output_type": "display_data"
    }
   ],
   "source": [
    "# Model specification\n",
    "parModel = {\"regType\":'ridge', \"poly\":3, \"kernel\":\"poly\", \"coef0\":1}\n",
    "# To be evaluated parameter(s)\n",
    "parLabel = ['alpha']\n",
    "parRange = [15] \n",
    "# Define kfold validation parameters\n",
    "testSize = 0.2 \n",
    "k = 5 \n",
    "kInner = 5\n",
    "#\n",
    "X = positionBox.values\n",
    "y = yRooted\n",
    "# Run function\n",
    "scoresParCV, optimalParCV = KfoldCV(X,y,k,parModel,parLabel[0],parRange[0]) "
   ]
  },
  {
   "cell_type": "code",
   "execution_count": 10,
   "metadata": {
    "collapsed": false,
    "slideshow": {
     "slide_type": "subslide"
    }
   },
   "outputs": [
    {
     "name": "stdout",
     "output_type": "stream",
     "text": [
      "K FOLD CV \n",
      "---------- \n",
      "\n",
      " Maximum Score:  0.799712244586 \n",
      " Mean optimal score:  0.71828884522 \n",
      " sd optimal scores:  0.1535514781534831 \n",
      " Optimal parEval:\n",
      " [ 100.   10.   10.   10.   10.] \n",
      " parEval Scores:\n",
      " [[ 0.31989756  0.31989758  0.31989776  0.31989961  0.31991811  0.32010276\n",
      "   0.32192307  0.33795852  0.42008236  0.58898159  0.68370929  0.29640506\n",
      "  -1.65266186 -4.44410483 -5.28106803]\n",
      " [ 0.51080289  0.51080291  0.51080306  0.51080455  0.51081945  0.51096811\n",
      "   0.51241678  0.52401693  0.56517912  0.61233096  0.59169948  0.31607843\n",
      "  -1.12683883 -3.4371721  -4.15089014]\n",
      " [ 0.70372468  0.7037247   0.70372491  0.70372698  0.70374768  0.70395398\n",
      "   0.70595244  0.72118814  0.76496797  0.79971224  0.70280537  0.3204901\n",
      "  -0.97382186 -3.33005372 -4.08065618]\n",
      " [ 0.522472    0.52247202  0.5224723   0.52247508  0.52250286  0.52277968\n",
      "   0.5254527   0.54579531  0.61776066  0.71057502  0.6684023   0.35829674\n",
      "  -1.14365655 -3.53183989 -4.2556942 ]\n",
      " [ 0.63368022  0.63368024  0.63368047  0.63368276  0.63370564  0.63393391\n",
      "   0.63616824  0.65459056  0.72010534  0.78511671  0.78160052  0.42718334\n",
      "  -1.6473034  -4.83777626 -5.79585222]] \n",
      "\n",
      "\n",
      "\n"
     ]
    }
   ],
   "source": [
    "meanScores = np.mean(np.ndarray.max(scoresParCV,axis=1))\n",
    "print(\"K FOLD CV \\n---------- \\n\\n Maximum Score: \",np.max(scoresParCV), \"\\n Mean optimal score: \", meanScores ,\"\\n sd optimal scores: \", math.sqrt(np.sum(np.power((np.ndarray.max(scoresParCV,axis=1)-meanScores),2)))   , \"\\n Optimal parEval:\\n\", optimalParCV, \"\\n parEval Scores:\\n\", scoresParCV,\"\\n\\n\\n\")\\"
   ]
  },
  {
   "cell_type": "code",
   "execution_count": 11,
   "metadata": {
    "collapsed": false,
    "slideshow": {
     "slide_type": "skip"
    }
   },
   "outputs": [
    {
     "data": {
      "image/png": "[encoded data removed]",
      "text/plain": [
       "<matplotlib.figure.Figure at 0x7f02a6ca4470>"
      ]
     },
     "metadata": {},
     "output_type": "display_data"
    }
   ],
   "source": [
    "scoresParNCV, optimalParNCV, scoresNCV = nestedKfoldCV(X,y,k,kInner,parModel,parLabel[0],parRange[0])    "
   ]
  },
  {
   "cell_type": "code",
   "execution_count": 12,
   "metadata": {
    "collapsed": false,
    "slideshow": {
     "slide_type": "subslide"
    }
   },
   "outputs": [
    {
     "name": "stdout",
     "output_type": "stream",
     "text": [
      "NESTED K FOLD CV \n",
      "----------------- \n",
      "\n",
      " Maximum Score:  0.799712244586 \n",
      " Mean optimal score:  0.71828884522 \n",
      " sd optimal scores:  0.1535514781534831 \n",
      " Optimal parEval:\n",
      " [[ 100.  100.  100.  100.  100.]\n",
      " [  10.   10.   10.   10.   10.]\n",
      " [  10.   10.   10.   10.   10.]\n",
      " [  10.   10.   10.   10.   10.]\n",
      " [  10.   10.   10.   10.   10.]] \n",
      " parEval Scores:\n",
      " [ 0.68370929  0.61233096  0.79971224  0.71057502  0.78511671] \n",
      "\n",
      "\n",
      "\n"
     ]
    }
   ],
   "source": [
    "print(\"NESTED K FOLD CV \\n----------------- \\n\\n Maximum Score: \",np.max(scoresParNCV), \"\\n Mean optimal score: \", np.mean(scoresParNCV) ,\"\\n sd optimal scores: \", math.sqrt(np.sum(np.power((np.ndarray.max(scoresParCV,axis=1)-np.mean(scoresParNCV)),2))) , \"\\n Optimal parEval:\\n\", optimalParNCV, \"\\n parEval Scores:\\n\", scoresParNCV,\"\\n\\n\\n\")"
   ]
  },
  {
   "cell_type": "markdown",
   "metadata": {
    "collapsed": true,
    "slideshow": {
     "slide_type": "slide"
    }
   },
   "source": [
    "# Validation\n",
    "\n",
    "<script>\n",
    "code_show=true; \n",
    "function code_toggle() {\n",
    " if (code_show){\n",
    " $('div.input').hide();\n",
    " $('div.output_prompt').show();\n",
    " $('.alert-success').hide();\n",
    " $('.alert-danger').show();\n",
    " } else {\n",
    " $('div.input').show();\n",
    " $('div.output_prompt').show();\n",
    " $('.alert-success').show();\n",
    " $('.alert-danger').hide();\n",
    " }\n",
    " code_show = !code_show\n",
    "} \n",
    "$( document ).ready(code_toggle);\n",
    "</script>\n",
    "The raw code for this IPython notebook is by default hidden for easier reading.\n",
    "To toggle on/off the raw code, click <a href=\"javascript:code_toggle()\">here</a>.\n",
    "\n",
    "<div class=\"alert alert-success\">\n",
    "    <b>CODE SHOW </b>: turned ON\n",
    "</div>\n",
    "<div class=\"alert alert-danger\">\n",
    "    <b>CODE SHOW </b>: turned OFF\n",
    "</div>"
   ]
  },
  {
   "cell_type": "markdown",
   "metadata": {
    "slideshow": {
     "slide_type": "skip"
    }
   },
   "source": [
    "# Something about rank\n",
    "** Spearman's rank correlation coefficient**\n",
    "\n"
   ]
  },
  {
   "cell_type": "markdown",
   "metadata": {
    "slideshow": {
     "slide_type": "subslide"
    }
   },
   "source": [
    "# Anderson promoter library\n",
    "\n",
    "- 19 well-recognized promoters\n",
    "- recovered by Chris Anderson\n",
    "- sequence range: $   [-35,1]$\n",
    "- single nucleotide variations\n"
   ]
  },
  {
   "cell_type": "code",
   "execution_count": 13,
   "metadata": {
    "collapsed": false,
    "slideshow": {
     "slide_type": "fragment"
    }
   },
   "outputs": [
    {
     "data": {
      "text/html": [
       "<div>\n",
       "<table border=\"1\" class=\"dataframe\">\n",
       "  <thead>\n",
       "    <tr style=\"text-align: right;\">\n",
       "      <th></th>\n",
       "      <th>ID</th>\n",
       "      <th>sequence</th>\n",
       "      <th>mean_score</th>\n",
       "    </tr>\n",
       "  </thead>\n",
       "  <tbody>\n",
       "    <tr>\n",
       "      <th>0</th>\n",
       "      <td>BBa_J23100</td>\n",
       "      <td>TTGACGGCTAGCTCAGTCCTAGGTACAGTGCTAGC</td>\n",
       "      <td>1.00</td>\n",
       "    </tr>\n",
       "    <tr>\n",
       "      <th>1</th>\n",
       "      <td>BBa_J23101</td>\n",
       "      <td>TTTACAGCTAGCTCAGTCCTAGGTATTATGCTAGC</td>\n",
       "      <td>0.70</td>\n",
       "    </tr>\n",
       "    <tr>\n",
       "      <th>2</th>\n",
       "      <td>BBa_J23102</td>\n",
       "      <td>TTGACAGCTAGCTCAGTCCTAGGTACTGTGCTAGC</td>\n",
       "      <td>0.86</td>\n",
       "    </tr>\n",
       "    <tr>\n",
       "      <th>3</th>\n",
       "      <td>BBa_J23103</td>\n",
       "      <td>CTGATAGCTAGCTCAGTCCTAGGGATTATGCTAGC</td>\n",
       "      <td>0.01</td>\n",
       "    </tr>\n",
       "    <tr>\n",
       "      <th>4</th>\n",
       "      <td>BBa_J23104</td>\n",
       "      <td>TTGACAGCTAGCTCAGTCCTAGGTATTGTGCTAGC</td>\n",
       "      <td>0.72</td>\n",
       "    </tr>\n",
       "  </tbody>\n",
       "</table>\n",
       "</div>"
      ],
      "text/plain": [
       "           ID                             sequence  mean_score\n",
       "0  BBa_J23100  TTGACGGCTAGCTCAGTCCTAGGTACAGTGCTAGC        1.00\n",
       "1  BBa_J23101  TTTACAGCTAGCTCAGTCCTAGGTATTATGCTAGC        0.70\n",
       "2  BBa_J23102  TTGACAGCTAGCTCAGTCCTAGGTACTGTGCTAGC        0.86\n",
       "3  BBa_J23103  CTGATAGCTAGCTCAGTCCTAGGGATTATGCTAGC        0.01\n",
       "4  BBa_J23104  TTGACAGCTAGCTCAGTCCTAGGTATTGTGCTAGC        0.72"
      ]
     },
     "execution_count": 13,
     "metadata": {},
     "output_type": "execute_result"
    }
   ],
   "source": [
    "dfDatasetTest = pd.read_csv(\"data/anderson_lib.csv\")\n",
    "dfDatasetTest['sequence'] = dfDatasetTest['sequence'].str.upper()\n",
    "dfDatasetTest.iloc[:5,:3]"
   ]
  },
  {
   "cell_type": "code",
   "execution_count": 14,
   "metadata": {
    "collapsed": false,
    "slideshow": {
     "slide_type": "subslide"
    }
   },
   "outputs": [
    {
     "name": "stdout",
     "output_type": "stream",
     "text": [
      "SpearmanrResult(correlation=0.80728709394205445, pvalue=2.9393274121457126e-05)\n"
     ]
    },
    {
     "data": {
      "text/plain": [
       "<matplotlib.text.Text at 0x7f028dfa0da0>"
      ]
     },
     "execution_count": 14,
     "metadata": {},
     "output_type": "execute_result"
    },
    {
     "data": {
      "image/png": "[encoded data removed]",
      "text/plain": [
       "<matplotlib.figure.Figure at 0x7f028df8be10>"
      ]
     },
     "metadata": {},
     "output_type": "display_data"
    }
   ],
   "source": [
    "labelsTest, positionBoxTest, spacerTest = regionSelect(dfDatasetTest, ROI, seqRange)\n",
    "Xtest = positionBoxTest.values\n",
    "\n",
    "parInput = {\"regType\":'ridge', \"poly\":3, \"kernel\":'poly', \"gamma\":0.1, \"alpha\": 10000, \"coef0\":1} \n",
    "reg = selectRegression(**parInput)\n",
    "reg.fit(X,y)\n",
    "rankPredict = reg.predict(Xtest)\n",
    "\n",
    "#print(np.transpose(np.vstack((dfDatasetTest['sequence'].values,dfDatasetTest['mean_score'].values,rankPredict))))\n",
    "print(stats.spearmanr(dfDatasetTest['mean_score'].values,rankPredict))\n",
    "plt.plot(dfDatasetTest['mean_score'].values,rankPredict, 'ro')\n",
    "plt.xlabel('True label')\n",
    "plt.ylabel('Predicted label')"
   ]
  },
  {
   "cell_type": "markdown",
   "metadata": {
    "slideshow": {
     "slide_type": "subslide"
    }
   },
   "source": [
    "<img src=\"images/brewster.png\" align=\"top\" width=\"100%\"> \n",
    "\n",
    "- 18 promoters\n",
    "- sequence range: $   [-40,-1]$\n",
    "- single nucleotide variations focused in and around TATA- and TTGACA-box \n",
    "\n"
   ]
  },
  {
   "cell_type": "code",
   "execution_count": 15,
   "metadata": {
    "collapsed": false,
    "slideshow": {
     "slide_type": "fragment"
    }
   },
   "outputs": [
    {
     "data": {
      "text/html": [
       "\n",
       "        <style  type=\"text/css\" >\n",
       "        \n",
       "        \n",
       "            #T_cbdd9182_c04e_11e6_a858_e4a7a0f4ef34row0_col0 {\n",
       "            \n",
       "                font-size:  12px;\n",
       "            \n",
       "            }\n",
       "        \n",
       "            #T_cbdd9182_c04e_11e6_a858_e4a7a0f4ef34row0_col1 {\n",
       "            \n",
       "                font-size:  12px;\n",
       "            \n",
       "            }\n",
       "        \n",
       "            #T_cbdd9182_c04e_11e6_a858_e4a7a0f4ef34row0_col2 {\n",
       "            \n",
       "                font-size:  12px;\n",
       "            \n",
       "            }\n",
       "        \n",
       "            #T_cbdd9182_c04e_11e6_a858_e4a7a0f4ef34row1_col0 {\n",
       "            \n",
       "                font-size:  12px;\n",
       "            \n",
       "            }\n",
       "        \n",
       "            #T_cbdd9182_c04e_11e6_a858_e4a7a0f4ef34row1_col1 {\n",
       "            \n",
       "                font-size:  12px;\n",
       "            \n",
       "            }\n",
       "        \n",
       "            #T_cbdd9182_c04e_11e6_a858_e4a7a0f4ef34row1_col2 {\n",
       "            \n",
       "                font-size:  12px;\n",
       "            \n",
       "            }\n",
       "        \n",
       "            #T_cbdd9182_c04e_11e6_a858_e4a7a0f4ef34row2_col0 {\n",
       "            \n",
       "                font-size:  12px;\n",
       "            \n",
       "            }\n",
       "        \n",
       "            #T_cbdd9182_c04e_11e6_a858_e4a7a0f4ef34row2_col1 {\n",
       "            \n",
       "                font-size:  12px;\n",
       "            \n",
       "            }\n",
       "        \n",
       "            #T_cbdd9182_c04e_11e6_a858_e4a7a0f4ef34row2_col2 {\n",
       "            \n",
       "                font-size:  12px;\n",
       "            \n",
       "            }\n",
       "        \n",
       "            #T_cbdd9182_c04e_11e6_a858_e4a7a0f4ef34row3_col0 {\n",
       "            \n",
       "                font-size:  12px;\n",
       "            \n",
       "            }\n",
       "        \n",
       "            #T_cbdd9182_c04e_11e6_a858_e4a7a0f4ef34row3_col1 {\n",
       "            \n",
       "                font-size:  12px;\n",
       "            \n",
       "            }\n",
       "        \n",
       "            #T_cbdd9182_c04e_11e6_a858_e4a7a0f4ef34row3_col2 {\n",
       "            \n",
       "                font-size:  12px;\n",
       "            \n",
       "            }\n",
       "        \n",
       "            #T_cbdd9182_c04e_11e6_a858_e4a7a0f4ef34row4_col0 {\n",
       "            \n",
       "                font-size:  12px;\n",
       "            \n",
       "            }\n",
       "        \n",
       "            #T_cbdd9182_c04e_11e6_a858_e4a7a0f4ef34row4_col1 {\n",
       "            \n",
       "                font-size:  12px;\n",
       "            \n",
       "            }\n",
       "        \n",
       "            #T_cbdd9182_c04e_11e6_a858_e4a7a0f4ef34row4_col2 {\n",
       "            \n",
       "                font-size:  12px;\n",
       "            \n",
       "            }\n",
       "        \n",
       "        </style>\n",
       "\n",
       "        <table id=\"T_cbdd9182_c04e_11e6_a858_e4a7a0f4ef34\" None>\n",
       "        \n",
       "\n",
       "        <thead>\n",
       "            \n",
       "            <tr>\n",
       "                \n",
       "                \n",
       "                <th class=\"blank level0\" >\n",
       "                  \n",
       "                \n",
       "                \n",
       "                \n",
       "                <th class=\"col_heading level0 col0\" colspan=1>\n",
       "                  ID\n",
       "                \n",
       "                \n",
       "                \n",
       "                <th class=\"col_heading level0 col1\" colspan=1>\n",
       "                  sequence\n",
       "                \n",
       "                \n",
       "                \n",
       "                <th class=\"col_heading level0 col2\" colspan=1>\n",
       "                  mean_score\n",
       "                \n",
       "                \n",
       "            </tr>\n",
       "            \n",
       "        </thead>\n",
       "        <tbody>\n",
       "            \n",
       "            <tr>\n",
       "                \n",
       "                \n",
       "                <th id=\"T_cbdd9182_c04e_11e6_a858_e4a7a0f4ef34\"\n",
       "                 class=\"row_heading level0 row0\" rowspan=1>\n",
       "                    0\n",
       "                \n",
       "                \n",
       "                \n",
       "                <td id=\"T_cbdd9182_c04e_11e6_a858_e4a7a0f4ef34row0_col0\"\n",
       "                 class=\"data row0 col0\" >\n",
       "                    UV5\n",
       "                \n",
       "                \n",
       "                \n",
       "                <td id=\"T_cbdd9182_c04e_11e6_a858_e4a7a0f4ef34row0_col1\"\n",
       "                 class=\"data row0 col1\" >\n",
       "                    TCGAGTTTACACTTTATGCTTCCGGCTCGTATAATGTGTGG\n",
       "                \n",
       "                \n",
       "                \n",
       "                <td id=\"T_cbdd9182_c04e_11e6_a858_e4a7a0f4ef34row0_col2\"\n",
       "                 class=\"data row0 col2\" >\n",
       "                    41.8\n",
       "                \n",
       "                \n",
       "            </tr>\n",
       "            \n",
       "            <tr>\n",
       "                \n",
       "                \n",
       "                <th id=\"T_cbdd9182_c04e_11e6_a858_e4a7a0f4ef34\"\n",
       "                 class=\"row_heading level0 row1\" rowspan=1>\n",
       "                    1\n",
       "                \n",
       "                \n",
       "                \n",
       "                <td id=\"T_cbdd9182_c04e_11e6_a858_e4a7a0f4ef34row1_col0\"\n",
       "                 class=\"data row1 col0\" >\n",
       "                    WT\n",
       "                \n",
       "                \n",
       "                \n",
       "                <td id=\"T_cbdd9182_c04e_11e6_a858_e4a7a0f4ef34row1_col1\"\n",
       "                 class=\"data row1 col1\" >\n",
       "                    CAGGCTTTACACTTTATGCTTCCGGCTCGTATGTTGTGTGG\n",
       "                \n",
       "                \n",
       "                \n",
       "                <td id=\"T_cbdd9182_c04e_11e6_a858_e4a7a0f4ef34row1_col2\"\n",
       "                 class=\"data row1 col2\" >\n",
       "                    53.45\n",
       "                \n",
       "                \n",
       "            </tr>\n",
       "            \n",
       "            <tr>\n",
       "                \n",
       "                \n",
       "                <th id=\"T_cbdd9182_c04e_11e6_a858_e4a7a0f4ef34\"\n",
       "                 class=\"row_heading level0 row2\" rowspan=1>\n",
       "                    2\n",
       "                \n",
       "                \n",
       "                \n",
       "                <td id=\"T_cbdd9182_c04e_11e6_a858_e4a7a0f4ef34row2_col0\"\n",
       "                 class=\"data row2 col0\" >\n",
       "                    WTDL10\n",
       "                \n",
       "                \n",
       "                \n",
       "                <td id=\"T_cbdd9182_c04e_11e6_a858_e4a7a0f4ef34row2_col1\"\n",
       "                 class=\"data row2 col1\" >\n",
       "                    CAGGCATTACACTTTATGCTTCCGGCTCGTATGTTGTGTGG\n",
       "                \n",
       "                \n",
       "                \n",
       "                <td id=\"T_cbdd9182_c04e_11e6_a858_e4a7a0f4ef34row2_col2\"\n",
       "                 class=\"data row2 col2\" >\n",
       "                    57.83\n",
       "                \n",
       "                \n",
       "            </tr>\n",
       "            \n",
       "            <tr>\n",
       "                \n",
       "                \n",
       "                <th id=\"T_cbdd9182_c04e_11e6_a858_e4a7a0f4ef34\"\n",
       "                 class=\"row_heading level0 row3\" rowspan=1>\n",
       "                    3\n",
       "                \n",
       "                \n",
       "                \n",
       "                <td id=\"T_cbdd9182_c04e_11e6_a858_e4a7a0f4ef34row3_col0\"\n",
       "                 class=\"data row3 col0\" >\n",
       "                    WTDL20\n",
       "                \n",
       "                \n",
       "                \n",
       "                <td id=\"T_cbdd9182_c04e_11e6_a858_e4a7a0f4ef34row3_col1\"\n",
       "                 class=\"data row3 col1\" >\n",
       "                    CAGGCTTAAGACTTTATGCTTCCGGCTCGTATGTTGTGTGG\n",
       "                \n",
       "                \n",
       "                \n",
       "                <td id=\"T_cbdd9182_c04e_11e6_a858_e4a7a0f4ef34row3_col2\"\n",
       "                 class=\"data row3 col2\" >\n",
       "                    69.03\n",
       "                \n",
       "                \n",
       "            </tr>\n",
       "            \n",
       "            <tr>\n",
       "                \n",
       "                \n",
       "                <th id=\"T_cbdd9182_c04e_11e6_a858_e4a7a0f4ef34\"\n",
       "                 class=\"row_heading level0 row4\" rowspan=1>\n",
       "                    4\n",
       "                \n",
       "                \n",
       "                \n",
       "                <td id=\"T_cbdd9182_c04e_11e6_a858_e4a7a0f4ef34row4_col0\"\n",
       "                 class=\"data row4 col0\" >\n",
       "                    WTDL20v2\n",
       "                \n",
       "                \n",
       "                \n",
       "                <td id=\"T_cbdd9182_c04e_11e6_a858_e4a7a0f4ef34row4_col1\"\n",
       "                 class=\"data row4 col1\" >\n",
       "                    CAGGCCTTAGACTTTATGCTTCCGGCTCGTATGTTGTGTGG\n",
       "                \n",
       "                \n",
       "                \n",
       "                <td id=\"T_cbdd9182_c04e_11e6_a858_e4a7a0f4ef34row4_col2\"\n",
       "                 class=\"data row4 col2\" >\n",
       "                    69.93\n",
       "                \n",
       "                \n",
       "            </tr>\n",
       "            \n",
       "        </tbody>\n",
       "        </table>\n",
       "        "
      ],
      "text/plain": [
       "<pandas.formats.style.Styler at 0x7f029c0baf28>"
      ]
     },
     "execution_count": 15,
     "metadata": {},
     "output_type": "execute_result"
    }
   ],
   "source": [
    "dfDatasetTest = pd.read_csv(\"data/brewster_lib.csv\")\n",
    "dfDatasetTest.iloc[:5,:3].style.set_properties(**{\"font-size\":\"12px\"})"
   ]
  },
  {
   "cell_type": "code",
   "execution_count": 16,
   "metadata": {
    "collapsed": false,
    "slideshow": {
     "slide_type": "subslide"
    }
   },
   "outputs": [
    {
     "name": "stdout",
     "output_type": "stream",
     "text": [
      "SpearmanrResult(correlation=-0.91124871001031982, pvalue=1.4607836787089575e-07)\n"
     ]
    },
    {
     "data": {
      "text/plain": [
       "<matplotlib.text.Text at 0x7f028df8f320>"
      ]
     },
     "execution_count": 16,
     "metadata": {},
     "output_type": "execute_result"
    },
    {
     "data": {
      "image/png": "[encoded data removed]",
      "text/plain": [
       "<matplotlib.figure.Figure at 0x7f028df94208>"
      ]
     },
     "metadata": {},
     "output_type": "display_data"
    }
   ],
   "source": [
    "labelsTest, positionBoxTest, spacerTest = regionSelect(dfDatasetTest, ROI, seqRange)\n",
    "Xtest = positionBoxTest.values\n",
    "\n",
    "rankPredict = reg.predict(Xtest)\n",
    "#print(np.transpose(np.vstack((dfDatasetTest['sequence'].values,dfDatasetTest['mean_score'].values,rankPredict))))\n",
    "print(stats.spearmanr(dfDatasetTest['mean_score'].values,rankPredict))\n",
    "plt.plot(dfDatasetTest['mean_score'].values,rankPredict, 'ro')\n",
    "plt.xlabel('True label')\n",
    "plt.ylabel('Predicted label')"
   ]
  },
  {
   "cell_type": "markdown",
   "metadata": {
    "slideshow": {
     "slide_type": "subslide"
    }
   },
   "source": [
    "<img src=\"images/hammer.png\" align=\"top\" width=\"100%\"> \n",
    "\n",
    "- 36 promoters\n",
    "- sequence range: $   [-52,+7]$\n",
    "- high level of variation over whole sequence\n"
   ]
  },
  {
   "cell_type": "code",
   "execution_count": 65,
   "metadata": {
    "collapsed": false,
    "scrolled": false,
    "slideshow": {
     "slide_type": "fragment"
    }
   },
   "outputs": [
    {
     "data": {
      "text/html": [
       "\n",
       "        <style  type=\"text/css\" >\n",
       "        \n",
       "        \n",
       "            #T_3239820c_c03f_11e6_90b9_e4a7a0f4ef34row0_col0 {\n",
       "            \n",
       "                font-size:  10px;\n",
       "            \n",
       "            }\n",
       "        \n",
       "            #T_3239820c_c03f_11e6_90b9_e4a7a0f4ef34row0_col1 {\n",
       "            \n",
       "                font-size:  10px;\n",
       "            \n",
       "            }\n",
       "        \n",
       "            #T_3239820c_c03f_11e6_90b9_e4a7a0f4ef34row0_col2 {\n",
       "            \n",
       "                font-size:  10px;\n",
       "            \n",
       "            }\n",
       "        \n",
       "            #T_3239820c_c03f_11e6_90b9_e4a7a0f4ef34row1_col0 {\n",
       "            \n",
       "                font-size:  10px;\n",
       "            \n",
       "            }\n",
       "        \n",
       "            #T_3239820c_c03f_11e6_90b9_e4a7a0f4ef34row1_col1 {\n",
       "            \n",
       "                font-size:  10px;\n",
       "            \n",
       "            }\n",
       "        \n",
       "            #T_3239820c_c03f_11e6_90b9_e4a7a0f4ef34row1_col2 {\n",
       "            \n",
       "                font-size:  10px;\n",
       "            \n",
       "            }\n",
       "        \n",
       "            #T_3239820c_c03f_11e6_90b9_e4a7a0f4ef34row2_col0 {\n",
       "            \n",
       "                font-size:  10px;\n",
       "            \n",
       "            }\n",
       "        \n",
       "            #T_3239820c_c03f_11e6_90b9_e4a7a0f4ef34row2_col1 {\n",
       "            \n",
       "                font-size:  10px;\n",
       "            \n",
       "            }\n",
       "        \n",
       "            #T_3239820c_c03f_11e6_90b9_e4a7a0f4ef34row2_col2 {\n",
       "            \n",
       "                font-size:  10px;\n",
       "            \n",
       "            }\n",
       "        \n",
       "            #T_3239820c_c03f_11e6_90b9_e4a7a0f4ef34row3_col0 {\n",
       "            \n",
       "                font-size:  10px;\n",
       "            \n",
       "            }\n",
       "        \n",
       "            #T_3239820c_c03f_11e6_90b9_e4a7a0f4ef34row3_col1 {\n",
       "            \n",
       "                font-size:  10px;\n",
       "            \n",
       "            }\n",
       "        \n",
       "            #T_3239820c_c03f_11e6_90b9_e4a7a0f4ef34row3_col2 {\n",
       "            \n",
       "                font-size:  10px;\n",
       "            \n",
       "            }\n",
       "        \n",
       "            #T_3239820c_c03f_11e6_90b9_e4a7a0f4ef34row4_col0 {\n",
       "            \n",
       "                font-size:  10px;\n",
       "            \n",
       "            }\n",
       "        \n",
       "            #T_3239820c_c03f_11e6_90b9_e4a7a0f4ef34row4_col1 {\n",
       "            \n",
       "                font-size:  10px;\n",
       "            \n",
       "            }\n",
       "        \n",
       "            #T_3239820c_c03f_11e6_90b9_e4a7a0f4ef34row4_col2 {\n",
       "            \n",
       "                font-size:  10px;\n",
       "            \n",
       "            }\n",
       "        \n",
       "        </style>\n",
       "\n",
       "        <table id=\"T_3239820c_c03f_11e6_90b9_e4a7a0f4ef34\" None>\n",
       "        \n",
       "\n",
       "        <thead>\n",
       "            \n",
       "            <tr>\n",
       "                \n",
       "                \n",
       "                <th class=\"blank level0\" >\n",
       "                  \n",
       "                \n",
       "                \n",
       "                \n",
       "                <th class=\"col_heading level0 col0\" colspan=1>\n",
       "                  ID\n",
       "                \n",
       "                \n",
       "                \n",
       "                <th class=\"col_heading level0 col1\" colspan=1>\n",
       "                  sequence\n",
       "                \n",
       "                \n",
       "                \n",
       "                <th class=\"col_heading level0 col2\" colspan=1>\n",
       "                  mean_score\n",
       "                \n",
       "                \n",
       "            </tr>\n",
       "            \n",
       "        </thead>\n",
       "        <tbody>\n",
       "            \n",
       "            <tr>\n",
       "                \n",
       "                \n",
       "                <th id=\"T_3239820c_c03f_11e6_90b9_e4a7a0f4ef34\"\n",
       "                 class=\"row_heading level0 row0\" rowspan=1>\n",
       "                    0\n",
       "                \n",
       "                \n",
       "                \n",
       "                <td id=\"T_3239820c_c03f_11e6_90b9_e4a7a0f4ef34row0_col0\"\n",
       "                 class=\"data row0 col0\" >\n",
       "                    CP18=CP27\n",
       "                \n",
       "                \n",
       "                \n",
       "                <td id=\"T_3239820c_c03f_11e6_90b9_e4a7a0f4ef34row0_col1\"\n",
       "                 class=\"data row0 col1\" >\n",
       "                    CATTTTGCAGTTTATTCTTGACATTGTGTGCTTCGGGTGTATAATACTAAGTACTGTT\n",
       "                \n",
       "                \n",
       "                \n",
       "                <td id=\"T_3239820c_c03f_11e6_90b9_e4a7a0f4ef34row0_col2\"\n",
       "                 class=\"data row0 col2\" >\n",
       "                    0.2\n",
       "                \n",
       "                \n",
       "            </tr>\n",
       "            \n",
       "            <tr>\n",
       "                \n",
       "                \n",
       "                <th id=\"T_3239820c_c03f_11e6_90b9_e4a7a0f4ef34\"\n",
       "                 class=\"row_heading level0 row1\" rowspan=1>\n",
       "                    1\n",
       "                \n",
       "                \n",
       "                \n",
       "                <td id=\"T_3239820c_c03f_11e6_90b9_e4a7a0f4ef34row1_col0\"\n",
       "                 class=\"data row1 col0\" >\n",
       "                    CP37\n",
       "                \n",
       "                \n",
       "                \n",
       "                <td id=\"T_3239820c_c03f_11e6_90b9_e4a7a0f4ef34row1_col1\"\n",
       "                 class=\"data row1 col1\" >\n",
       "                    CATCATTAAGTTTATTCTTCACATTGGCCGGAATTGTTGTATAATACCTTAGTACTGTT\n",
       "                \n",
       "                \n",
       "                \n",
       "                <td id=\"T_3239820c_c03f_11e6_90b9_e4a7a0f4ef34row1_col2\"\n",
       "                 class=\"data row1 col2\" >\n",
       "                    16\n",
       "                \n",
       "                \n",
       "            </tr>\n",
       "            \n",
       "            <tr>\n",
       "                \n",
       "                \n",
       "                <th id=\"T_3239820c_c03f_11e6_90b9_e4a7a0f4ef34\"\n",
       "                 class=\"row_heading level0 row2\" rowspan=1>\n",
       "                    2\n",
       "                \n",
       "                \n",
       "                \n",
       "                <td id=\"T_3239820c_c03f_11e6_90b9_e4a7a0f4ef34row2_col0\"\n",
       "                 class=\"data row2 col0\" >\n",
       "                    CP17\n",
       "                \n",
       "                \n",
       "                \n",
       "                <td id=\"T_3239820c_c03f_11e6_90b9_e4a7a0f4ef34row2_col1\"\n",
       "                 class=\"data row2 col1\" >\n",
       "                    CATTCTGGAGTTTATTCTTGACCGCTCAGTATGCAGTGGTATAATAGTACAGTACTGTT\n",
       "                \n",
       "                \n",
       "                \n",
       "                <td id=\"T_3239820c_c03f_11e6_90b9_e4a7a0f4ef34row2_col2\"\n",
       "                 class=\"data row2 col2\" >\n",
       "                    10\n",
       "                \n",
       "                \n",
       "            </tr>\n",
       "            \n",
       "            <tr>\n",
       "                \n",
       "                \n",
       "                <th id=\"T_3239820c_c03f_11e6_90b9_e4a7a0f4ef34\"\n",
       "                 class=\"row_heading level0 row3\" rowspan=1>\n",
       "                    3\n",
       "                \n",
       "                \n",
       "                \n",
       "                <td id=\"T_3239820c_c03f_11e6_90b9_e4a7a0f4ef34row3_col0\"\n",
       "                 class=\"data row3 col0\" >\n",
       "                    CP2\n",
       "                \n",
       "                \n",
       "                \n",
       "                <td id=\"T_3239820c_c03f_11e6_90b9_e4a7a0f4ef34row3_col1\"\n",
       "                 class=\"data row3 col1\" >\n",
       "                    CATTTGCTAGTTTATTCTTGACATGAAGCGTGCCTAATGGTATATTACTTGAGTACTGTT\n",
       "                \n",
       "                \n",
       "                \n",
       "                <td id=\"T_3239820c_c03f_11e6_90b9_e4a7a0f4ef34row3_col2\"\n",
       "                 class=\"data row3 col2\" >\n",
       "                    2.8\n",
       "                \n",
       "                \n",
       "            </tr>\n",
       "            \n",
       "            <tr>\n",
       "                \n",
       "                \n",
       "                <th id=\"T_3239820c_c03f_11e6_90b9_e4a7a0f4ef34\"\n",
       "                 class=\"row_heading level0 row4\" rowspan=1>\n",
       "                    4\n",
       "                \n",
       "                \n",
       "                \n",
       "                <td id=\"T_3239820c_c03f_11e6_90b9_e4a7a0f4ef34row4_col0\"\n",
       "                 class=\"data row4 col0\" >\n",
       "                    CP4\n",
       "                \n",
       "                \n",
       "                \n",
       "                <td id=\"T_3239820c_c03f_11e6_90b9_e4a7a0f4ef34row4_col1\"\n",
       "                 class=\"data row4 col1\" >\n",
       "                    GATGTTTTAGTTTATTCTTGACACCGTATCGTGCGCGTGATATAATCGGGATCCTTAAGA\n",
       "                \n",
       "                \n",
       "                \n",
       "                <td id=\"T_3239820c_c03f_11e6_90b9_e4a7a0f4ef34row4_col2\"\n",
       "                 class=\"data row4 col2\" >\n",
       "                    1.3\n",
       "                \n",
       "                \n",
       "            </tr>\n",
       "            \n",
       "        </tbody>\n",
       "        </table>\n",
       "        "
      ],
      "text/plain": [
       "<pandas.formats.style.Styler at 0x7fde8c521940>"
      ]
     },
     "execution_count": 65,
     "metadata": {},
     "output_type": "execute_result"
    }
   ],
   "source": [
    "\n",
    "dfDatasetTest = pd.read_csv(\"data/hammer_lib.csv\")\n",
    "dfDatasetTest.iloc[:5,:3].style.set_properties(**{\"font-size\":\"10px\"})\n"
   ]
  },
  {
   "cell_type": "code",
   "execution_count": 42,
   "metadata": {
    "collapsed": false,
    "scrolled": false,
    "slideshow": {
     "slide_type": "subslide"
    }
   },
   "outputs": [
    {
     "name": "stdout",
     "output_type": "stream",
     "text": [
      "SpearmanrResult(correlation=0.34255922865570765, pvalue=0.040839010065422274)\n"
     ]
    },
    {
     "data": {
      "text/plain": [
       "[<matplotlib.lines.Line2D at 0x7fde8c791e48>]"
      ]
     },
     "execution_count": 42,
     "metadata": {},
     "output_type": "execute_result"
    },
    {
     "data": {
      "image/png": "[encoded data removed]",
      "text/plain": [
       "<matplotlib.figure.Figure at 0x7fde8c7fc320>"
      ]
     },
     "metadata": {},
     "output_type": "display_data"
    }
   ],
   "source": [
    "labelsTest, positionBoxTest, spacerTest = regionSelect(dfDatasetTest, ROI, seqRange)\n",
    "Xtest = positionBoxTest.values\n",
    "rankPredict = reg.predict(Xtest)\n",
    "\n",
    "print(stats.spearmanr(dfDatasetTest['mean_score'].values,rankPredict))\n",
    "plt.plot(dfDatasetTest['mean_score'].values,rankPredict, 'ro')"
   ]
  },
  {
   "cell_type": "markdown",
   "metadata": {
    "slideshow": {
     "slide_type": "subslide"
    }
   },
   "source": [
    "<img src=\"images/inbio.png\" align=\"top\" width=\"100%\"> \n",
    "\n",
    "- 52 promoters\n",
    "- sequence range: $   [-53,+4]$\n",
    "- high level of variation over whole sequence\n"
   ]
  },
  {
   "cell_type": "code",
   "execution_count": 46,
   "metadata": {
    "collapsed": false,
    "scrolled": false,
    "slideshow": {
     "slide_type": "fragment"
    }
   },
   "outputs": [
    {
     "data": {
      "text/html": [
       "\n",
       "        <style  type=\"text/css\" >\n",
       "        \n",
       "        \n",
       "            #T_b03c1308_bfd7_11e6_90b9_e4a7a0f4ef34row0_col0 {\n",
       "            \n",
       "                font-size:  9px;\n",
       "            \n",
       "            }\n",
       "        \n",
       "            #T_b03c1308_bfd7_11e6_90b9_e4a7a0f4ef34row0_col1 {\n",
       "            \n",
       "                font-size:  9px;\n",
       "            \n",
       "            }\n",
       "        \n",
       "            #T_b03c1308_bfd7_11e6_90b9_e4a7a0f4ef34row0_col2 {\n",
       "            \n",
       "                font-size:  9px;\n",
       "            \n",
       "            }\n",
       "        \n",
       "            #T_b03c1308_bfd7_11e6_90b9_e4a7a0f4ef34row1_col0 {\n",
       "            \n",
       "                font-size:  9px;\n",
       "            \n",
       "            }\n",
       "        \n",
       "            #T_b03c1308_bfd7_11e6_90b9_e4a7a0f4ef34row1_col1 {\n",
       "            \n",
       "                font-size:  9px;\n",
       "            \n",
       "            }\n",
       "        \n",
       "            #T_b03c1308_bfd7_11e6_90b9_e4a7a0f4ef34row1_col2 {\n",
       "            \n",
       "                font-size:  9px;\n",
       "            \n",
       "            }\n",
       "        \n",
       "            #T_b03c1308_bfd7_11e6_90b9_e4a7a0f4ef34row2_col0 {\n",
       "            \n",
       "                font-size:  9px;\n",
       "            \n",
       "            }\n",
       "        \n",
       "            #T_b03c1308_bfd7_11e6_90b9_e4a7a0f4ef34row2_col1 {\n",
       "            \n",
       "                font-size:  9px;\n",
       "            \n",
       "            }\n",
       "        \n",
       "            #T_b03c1308_bfd7_11e6_90b9_e4a7a0f4ef34row2_col2 {\n",
       "            \n",
       "                font-size:  9px;\n",
       "            \n",
       "            }\n",
       "        \n",
       "            #T_b03c1308_bfd7_11e6_90b9_e4a7a0f4ef34row3_col0 {\n",
       "            \n",
       "                font-size:  9px;\n",
       "            \n",
       "            }\n",
       "        \n",
       "            #T_b03c1308_bfd7_11e6_90b9_e4a7a0f4ef34row3_col1 {\n",
       "            \n",
       "                font-size:  9px;\n",
       "            \n",
       "            }\n",
       "        \n",
       "            #T_b03c1308_bfd7_11e6_90b9_e4a7a0f4ef34row3_col2 {\n",
       "            \n",
       "                font-size:  9px;\n",
       "            \n",
       "            }\n",
       "        \n",
       "            #T_b03c1308_bfd7_11e6_90b9_e4a7a0f4ef34row4_col0 {\n",
       "            \n",
       "                font-size:  9px;\n",
       "            \n",
       "            }\n",
       "        \n",
       "            #T_b03c1308_bfd7_11e6_90b9_e4a7a0f4ef34row4_col1 {\n",
       "            \n",
       "                font-size:  9px;\n",
       "            \n",
       "            }\n",
       "        \n",
       "            #T_b03c1308_bfd7_11e6_90b9_e4a7a0f4ef34row4_col2 {\n",
       "            \n",
       "                font-size:  9px;\n",
       "            \n",
       "            }\n",
       "        \n",
       "        </style>\n",
       "\n",
       "        <table id=\"T_b03c1308_bfd7_11e6_90b9_e4a7a0f4ef34\" None>\n",
       "        \n",
       "\n",
       "        <thead>\n",
       "            \n",
       "            <tr>\n",
       "                \n",
       "                \n",
       "                <th class=\"blank level0\" >\n",
       "                  \n",
       "                \n",
       "                \n",
       "                \n",
       "                <th class=\"col_heading level0 col0\" colspan=1>\n",
       "                  ID\n",
       "                \n",
       "                \n",
       "                \n",
       "                <th class=\"col_heading level0 col1\" colspan=1>\n",
       "                  sequence\n",
       "                \n",
       "                \n",
       "                \n",
       "                <th class=\"col_heading level0 col2\" colspan=1>\n",
       "                  mean_score\n",
       "                \n",
       "                \n",
       "            </tr>\n",
       "            \n",
       "        </thead>\n",
       "        <tbody>\n",
       "            \n",
       "            <tr>\n",
       "                \n",
       "                \n",
       "                <th id=\"T_b03c1308_bfd7_11e6_90b9_e4a7a0f4ef34\"\n",
       "                 class=\"row_heading level0 row0\" rowspan=1>\n",
       "                    0\n",
       "                \n",
       "                \n",
       "                \n",
       "                <td id=\"T_b03c1308_bfd7_11e6_90b9_e4a7a0f4ef34row0_col0\"\n",
       "                 class=\"data row0 col0\" >\n",
       "                    p1\n",
       "                \n",
       "                \n",
       "                \n",
       "                <td id=\"T_b03c1308_bfd7_11e6_90b9_e4a7a0f4ef34row0_col1\"\n",
       "                 class=\"data row0 col1\" >\n",
       "                    TTAATCAATATTAGTTTCTTGACATCTTCTCCCGCATATGATATAATTAGTGAGTTACCATGGCGGCCGCTCTAGAAGAAGCTTGGGATCCGTCGACCTCGAATTCGGAGGAAACAAAGATG\n",
       "                \n",
       "                \n",
       "                \n",
       "                <td id=\"T_b03c1308_bfd7_11e6_90b9_e4a7a0f4ef34row0_col2\"\n",
       "                 class=\"data row0 col2\" >\n",
       "                    3779.86\n",
       "                \n",
       "                \n",
       "            </tr>\n",
       "            \n",
       "            <tr>\n",
       "                \n",
       "                \n",
       "                <th id=\"T_b03c1308_bfd7_11e6_90b9_e4a7a0f4ef34\"\n",
       "                 class=\"row_heading level0 row1\" rowspan=1>\n",
       "                    1\n",
       "                \n",
       "                \n",
       "                \n",
       "                <td id=\"T_b03c1308_bfd7_11e6_90b9_e4a7a0f4ef34row1_col0\"\n",
       "                 class=\"data row1 col0\" >\n",
       "                    p11\n",
       "                \n",
       "                \n",
       "                \n",
       "                <td id=\"T_b03c1308_bfd7_11e6_90b9_e4a7a0f4ef34row1_col1\"\n",
       "                 class=\"data row1 col1\" >\n",
       "                    TTACTGGACAAAATTTTCTTGACATATTTTTCGTTATATGATATAATGATGAGGTTTCCATGGCGGCCGCTCTAGAAGAAGCTTGGGATCCGTCGACCTCGAATTCGGAGGAAACAAAGATG\n",
       "                \n",
       "                \n",
       "                \n",
       "                <td id=\"T_b03c1308_bfd7_11e6_90b9_e4a7a0f4ef34row1_col2\"\n",
       "                 class=\"data row1 col2\" >\n",
       "                    787.37\n",
       "                \n",
       "                \n",
       "            </tr>\n",
       "            \n",
       "            <tr>\n",
       "                \n",
       "                \n",
       "                <th id=\"T_b03c1308_bfd7_11e6_90b9_e4a7a0f4ef34\"\n",
       "                 class=\"row_heading level0 row2\" rowspan=1>\n",
       "                    2\n",
       "                \n",
       "                \n",
       "                \n",
       "                <td id=\"T_b03c1308_bfd7_11e6_90b9_e4a7a0f4ef34row2_col0\"\n",
       "                 class=\"data row2 col0\" >\n",
       "                    p12\n",
       "                \n",
       "                \n",
       "                \n",
       "                <td id=\"T_b03c1308_bfd7_11e6_90b9_e4a7a0f4ef34row2_col1\"\n",
       "                 class=\"data row2 col1\" >\n",
       "                    TTAGAAGGAATTTGGTTCTTACATATTCGCACGCATGTGATATAATGGGGTTATTTCATGGCGGCCGCTSTAGAAGAAGCTTGGGATCCGTCGACCTSGAATTCGGAGGAAACAAAGATG\n",
       "                \n",
       "                \n",
       "                \n",
       "                <td id=\"T_b03c1308_bfd7_11e6_90b9_e4a7a0f4ef34row2_col2\"\n",
       "                 class=\"data row2 col2\" >\n",
       "                    154.69\n",
       "                \n",
       "                \n",
       "            </tr>\n",
       "            \n",
       "            <tr>\n",
       "                \n",
       "                \n",
       "                <th id=\"T_b03c1308_bfd7_11e6_90b9_e4a7a0f4ef34\"\n",
       "                 class=\"row_heading level0 row3\" rowspan=1>\n",
       "                    3\n",
       "                \n",
       "                \n",
       "                \n",
       "                <td id=\"T_b03c1308_bfd7_11e6_90b9_e4a7a0f4ef34row3_col0\"\n",
       "                 class=\"data row3 col0\" >\n",
       "                    p13\n",
       "                \n",
       "                \n",
       "                \n",
       "                <td id=\"T_b03c1308_bfd7_11e6_90b9_e4a7a0f4ef34row3_col1\"\n",
       "                 class=\"data row3 col1\" >\n",
       "                    CATACAGTTAAATTCTTCTTGACATATTCGGGTAAATATGGTATAATGGGAGCATATCCATGGCGGCCGCTCTAGAAGAAGCTTGGGATCCGTCGACCTCGAATTCGGAGGAAACAAAGATG\n",
       "                \n",
       "                \n",
       "                \n",
       "                <td id=\"T_b03c1308_bfd7_11e6_90b9_e4a7a0f4ef34row3_col2\"\n",
       "                 class=\"data row3 col2\" >\n",
       "                    3149.04\n",
       "                \n",
       "                \n",
       "            </tr>\n",
       "            \n",
       "            <tr>\n",
       "                \n",
       "                \n",
       "                <th id=\"T_b03c1308_bfd7_11e6_90b9_e4a7a0f4ef34\"\n",
       "                 class=\"row_heading level0 row4\" rowspan=1>\n",
       "                    4\n",
       "                \n",
       "                \n",
       "                \n",
       "                <td id=\"T_b03c1308_bfd7_11e6_90b9_e4a7a0f4ef34row4_col0\"\n",
       "                 class=\"data row4 col0\" >\n",
       "                    p14\n",
       "                \n",
       "                \n",
       "                \n",
       "                <td id=\"T_b03c1308_bfd7_11e6_90b9_e4a7a0f4ef34row4_col1\"\n",
       "                 class=\"data row4 col1\" >\n",
       "                    CTTCATTCTATAAGTTTCTTGACATCTTGGCCGGCATATGGTATAATAGGGAAATTTCCATGGCGGCCGCTCTAGAAGAAGCTTGGGATCCGTCGACCTCGAATTCGGAGGAAACAAAGATG\n",
       "                \n",
       "                \n",
       "                \n",
       "                <td id=\"T_b03c1308_bfd7_11e6_90b9_e4a7a0f4ef34row4_col2\"\n",
       "                 class=\"data row4 col2\" >\n",
       "                    7606.83\n",
       "                \n",
       "                \n",
       "            </tr>\n",
       "            \n",
       "        </tbody>\n",
       "        </table>\n",
       "        "
      ],
      "text/plain": [
       "<pandas.formats.style.Styler at 0x7fde8c7239b0>"
      ]
     },
     "execution_count": 46,
     "metadata": {},
     "output_type": "execute_result"
    }
   ],
   "source": [
    "dfDatasetTest = pd.read_csv(\"data/inbio_lib.csv\")\n",
    "dfDatasetTest.iloc[:5,:3].style.set_properties(**{\"font-size\":\"9px\"})"
   ]
  },
  {
   "cell_type": "code",
   "execution_count": 44,
   "metadata": {
    "collapsed": false,
    "slideshow": {
     "slide_type": "subslide"
    }
   },
   "outputs": [
    {
     "name": "stdout",
     "output_type": "stream",
     "text": [
      "SpearmanrResult(correlation=0.024503212316951642, pvalue=0.86310286460841112)\n"
     ]
    },
    {
     "data": {
      "text/plain": [
       "<matplotlib.text.Text at 0x7fde8c778c50>"
      ]
     },
     "execution_count": 44,
     "metadata": {},
     "output_type": "execute_result"
    },
    {
     "data": {
      "image/png": "[encoded data removed]",
      "text/plain": [
       "<matplotlib.figure.Figure at 0x7fde8c7f7400>"
      ]
     },
     "metadata": {},
     "output_type": "display_data"
    }
   ],
   "source": [
    "labelsTest, positionBoxTest, spacerTest = regionSelect(dfDatasetTest, ROI, seqRange)\n",
    "Xtest = positionBoxTest.values\n",
    "rankPredict = reg.predict(Xtest)\n",
    "\n",
    "print(stats.spearmanr(dfDatasetTest['mean_score'].values,rankPredict))\n",
    "plt.plot(dfDatasetTest['mean_score'].values,rankPredict, 'ro')\n",
    "plt.xlabel('True label')\n",
    "plt.ylabel('Predicted label')"
   ]
  },
  {
   "cell_type": "markdown",
   "metadata": {
    "slideshow": {
     "slide_type": "subslide"
    }
   },
   "source": [
    "# Remarks\n",
    "\n",
    "- Model is only strong in predicting changes within and in close range of the -35 and -10 regions\n",
    "- Training data only encompasses the $[-47,1]$ region\n",
    "- Simple features are used, giving a simple yet robust model\n",
    "- Model has been optimized (used loss function) to minimize difference between predicted and true label\n",
    "- Model cannot be further optimized with multiple dataset\n"
   ]
  },
  {
   "cell_type": "markdown",
   "metadata": {
    "slideshow": {
     "slide_type": "slide"
    }
   },
   "source": [
    "# Future work and focus\n",
    "\n"
   ]
  },
  {
   "cell_type": "markdown",
   "metadata": {
    "slideshow": {
     "slide_type": "subslide"
    }
   },
   "source": [
    "## Ranked based optimization methods\n",
    "\n",
    "- rank dependent loss function\n",
    "- optimization over different datasets.\n"
   ]
  },
  {
   "cell_type": "code",
   "execution_count": 49,
   "metadata": {
    "collapsed": false,
    "slideshow": {
     "slide_type": "fragment"
    }
   },
   "outputs": [
    {
     "data": {
      "text/html": [
       "<div>\n",
       "<table border=\"1\" class=\"dataframe\">\n",
       "  <thead>\n",
       "    <tr style=\"text-align: right;\">\n",
       "      <th></th>\n",
       "      <th>Unnamed: 0</th>\n",
       "      <th>ID_1</th>\n",
       "      <th>ID_2</th>\n",
       "      <th>sequence_1</th>\n",
       "      <th>sequence_2</th>\n",
       "      <th>score_1</th>\n",
       "      <th>score_2</th>\n",
       "      <th>rank</th>\n",
       "      <th>35boxstart_1</th>\n",
       "      <th>35boxstart_2</th>\n",
       "      <th>10boxstart_1</th>\n",
       "      <th>10boxstart_2</th>\n",
       "    </tr>\n",
       "  </thead>\n",
       "  <tbody>\n",
       "    <tr>\n",
       "      <th>0</th>\n",
       "      <td>0</td>\n",
       "      <td>apFAB29</td>\n",
       "      <td>apFAB30</td>\n",
       "      <td>AAAAAGAGTATTGACTTAAAGTCTAACCTATAGGATACTTACAGCCAT</td>\n",
       "      <td>AAAAAGAGTATTGACTTAAAGTCTAACCTATAGGTATAATGTGTGGAT</td>\n",
       "      <td>565.95</td>\n",
       "      <td>731.46</td>\n",
       "      <td>-1</td>\n",
       "      <td>10</td>\n",
       "      <td>10</td>\n",
       "      <td>34</td>\n",
       "      <td>34</td>\n",
       "    </tr>\n",
       "    <tr>\n",
       "      <th>1</th>\n",
       "      <td>1</td>\n",
       "      <td>apFAB29</td>\n",
       "      <td>apFAB31</td>\n",
       "      <td>AAAAAGAGTATTGACTTAAAGTCTAACCTATAGGATACTTACAGCCAT</td>\n",
       "      <td>AAAAAGAGTATTGACTTAAAGTCTAACCTATAGGTATAATAGATTCAT</td>\n",
       "      <td>565.95</td>\n",
       "      <td>781.83</td>\n",
       "      <td>-1</td>\n",
       "      <td>10</td>\n",
       "      <td>10</td>\n",
       "      <td>34</td>\n",
       "      <td>34</td>\n",
       "    </tr>\n",
       "    <tr>\n",
       "      <th>2</th>\n",
       "      <td>2</td>\n",
       "      <td>apFAB29</td>\n",
       "      <td>apFAB32</td>\n",
       "      <td>AAAAAGAGTATTGACTTAAAGTCTAACCTATAGGATACTTACAGCCAT</td>\n",
       "      <td>AAAAAGAGTATTGACTTAAAGTCTAACCTATAGGCATAATTATTTCAT</td>\n",
       "      <td>565.95</td>\n",
       "      <td>645.52</td>\n",
       "      <td>-1</td>\n",
       "      <td>10</td>\n",
       "      <td>10</td>\n",
       "      <td>34</td>\n",
       "      <td>34</td>\n",
       "    </tr>\n",
       "    <tr>\n",
       "      <th>3</th>\n",
       "      <td>3</td>\n",
       "      <td>apFAB29</td>\n",
       "      <td>apFAB33</td>\n",
       "      <td>AAAAAGAGTATTGACTTAAAGTCTAACCTATAGGATACTTACAGCCAT</td>\n",
       "      <td>AAAAAGAGTATTGACTTAAAGTCTAACCTATAGGTAGATTTAACGTAT</td>\n",
       "      <td>565.95</td>\n",
       "      <td>340.48</td>\n",
       "      <td>1</td>\n",
       "      <td>10</td>\n",
       "      <td>10</td>\n",
       "      <td>34</td>\n",
       "      <td>34</td>\n",
       "    </tr>\n",
       "    <tr>\n",
       "      <th>4</th>\n",
       "      <td>4</td>\n",
       "      <td>apFAB29</td>\n",
       "      <td>apFAB34</td>\n",
       "      <td>AAAAAGAGTATTGACTTAAAGTCTAACCTATAGGATACTTACAGCCAT</td>\n",
       "      <td>AAAAAGAGTATTGACTATTAATCATCCGGCTCGATACTTACAGCCAT</td>\n",
       "      <td>565.95</td>\n",
       "      <td>14.63</td>\n",
       "      <td>1</td>\n",
       "      <td>10</td>\n",
       "      <td>10</td>\n",
       "      <td>34</td>\n",
       "      <td>33</td>\n",
       "    </tr>\n",
       "  </tbody>\n",
       "</table>\n",
       "</div>"
      ],
      "text/plain": [
       "   Unnamed: 0     ID_1     ID_2  \\\n",
       "0           0  apFAB29  apFAB30   \n",
       "1           1  apFAB29  apFAB31   \n",
       "2           2  apFAB29  apFAB32   \n",
       "3           3  apFAB29  apFAB33   \n",
       "4           4  apFAB29  apFAB34   \n",
       "\n",
       "                                         sequence_1  \\\n",
       "0  AAAAAGAGTATTGACTTAAAGTCTAACCTATAGGATACTTACAGCCAT   \n",
       "1  AAAAAGAGTATTGACTTAAAGTCTAACCTATAGGATACTTACAGCCAT   \n",
       "2  AAAAAGAGTATTGACTTAAAGTCTAACCTATAGGATACTTACAGCCAT   \n",
       "3  AAAAAGAGTATTGACTTAAAGTCTAACCTATAGGATACTTACAGCCAT   \n",
       "4  AAAAAGAGTATTGACTTAAAGTCTAACCTATAGGATACTTACAGCCAT   \n",
       "\n",
       "                                         sequence_2  score_1  score_2  rank  \\\n",
       "0  AAAAAGAGTATTGACTTAAAGTCTAACCTATAGGTATAATGTGTGGAT   565.95   731.46    -1   \n",
       "1  AAAAAGAGTATTGACTTAAAGTCTAACCTATAGGTATAATAGATTCAT   565.95   781.83    -1   \n",
       "2  AAAAAGAGTATTGACTTAAAGTCTAACCTATAGGCATAATTATTTCAT   565.95   645.52    -1   \n",
       "3  AAAAAGAGTATTGACTTAAAGTCTAACCTATAGGTAGATTTAACGTAT   565.95   340.48     1   \n",
       "4   AAAAAGAGTATTGACTATTAATCATCCGGCTCGATACTTACAGCCAT   565.95    14.63     1   \n",
       "\n",
       "   35boxstart_1  35boxstart_2  10boxstart_1  10boxstart_2  \n",
       "0            10            10            34            34  \n",
       "1            10            10            34            34  \n",
       "2            10            10            34            34  \n",
       "3            10            10            34            34  \n",
       "4            10            10            34            33  "
      ]
     },
     "execution_count": 49,
     "metadata": {},
     "output_type": "execute_result"
    }
   ],
   "source": [
    "import pandas as pd\n",
    "dfDatasetTest = pd.read_csv(\"data/pairedDBanalysis.csv\")\n",
    "dfDatasetTest.iloc[:5]"
   ]
  },
  {
   "cell_type": "markdown",
   "metadata": {
    "slideshow": {
     "slide_type": "subslide"
    }
   },
   "source": [
    "<img src=\"images/cnn_DNA.png\" align=\"right\" width=\"50%\"> \n",
    "\n",
    "## Neural Networks\n",
    "- protein DNA interactions\n",
    "- deep neural networks and convolution\n",
    "\n",
    "<img src=\"images/dnn_DNA.png\" align=\"bottom\" width=\"100%\">"
   ]
  },
  {
   "cell_type": "code",
   "execution_count": null,
   "metadata": {
    "collapsed": true
   },
   "outputs": [],
   "source": []
  }
 ],
 "metadata": {
  "celltoolbar": "Slideshow",
  "kernelspec": {
   "display_name": "Python 3",
   "language": "python",
   "name": "python3"
  },
  "language_info": {
   "codemirror_mode": {
    "name": "ipython",
    "version": 3
   },
   "file_extension": ".py",
   "mimetype": "text/x-python",
   "name": "python",
   "nbconvert_exporter": "python",
   "pygments_lexer": "ipython3",
   "version": "3.5.2"
  }
 },
 "nbformat": 4,
 "nbformat_minor": 1
}
